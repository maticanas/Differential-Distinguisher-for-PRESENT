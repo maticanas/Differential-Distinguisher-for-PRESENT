{
 "cells": [
  {
   "cell_type": "code",
   "execution_count": 1,
   "metadata": {},
   "outputs": [],
   "source": [
    "import tensorflow as tf\n",
    "import numpy as np\n",
    "import matplotlib.pyplot as plt\n",
    "import random"
   ]
  },
  {
   "cell_type": "code",
   "execution_count": 2,
   "metadata": {
    "colab": {
     "base_uri": "https://localhost:8080/"
    },
    "id": "NXVzTjGSQpAx",
    "outputId": "31cbc208-81e9-4251-95e5-a53c46575581"
   },
   "outputs": [],
   "source": [
    "\"\"\"\n",
    "https://github.com/inmcm/present_cipher/tree/master/python\n",
    "\"\"\"\n",
    "# coding: utf-8\n",
    "from __future__ import print_function\n",
    "\n",
    "s_box = (0xC, 0x5, 0x6, 0xB, 0x9, 0x0, 0xA, 0xD, 0x3, 0xE, 0xF, 0x8, 0x4, 0x7, 0x1, 0x2)\n",
    "\n",
    "inv_s_box = (0x5, 0xE, 0xF, 0x8, 0xC, 0x1, 0x2, 0xD, 0xB, 0x4, 0x6, 0x3, 0x0, 0x7, 0x9, 0xA)\n",
    "\n",
    "p_layer_order = [0, 16, 32, 48, 1, 17, 33, 49, 2, 18, 34, 50, 3, 19, 35, 51, 4, 20, 36, 52, 5, 21, 37, 53, 6, 22, 38,\n",
    "                 54, 7, 23, 39, 55, 8, 24, 40, 56, 9, 25, 41, 57, 10, 26, 42, 58, 11, 27, 43, 59, 12, 28, 44, 60, 13,\n",
    "                 29, 45, 61, 14, 30, 46, 62, 15, 31, 47, 63]\n",
    "\n",
    "block_size = 64\n",
    "\n",
    "ROUND_LIMIT = 32\n",
    "\n",
    "\n",
    "def round_function(state, key):\n",
    "    new_state = state ^ key\n",
    "    state_nibs = []\n",
    "    for x in range(0, block_size, 4):\n",
    "        nib = (new_state >> x) & 0xF\n",
    "        sb_nib = s_box[nib]\n",
    "        state_nibs.append(sb_nib)\n",
    "    # print(state_nibs)\n",
    "\n",
    "    state_bits = []\n",
    "    for y in state_nibs:\n",
    "        nib_bits = [1 if t == '1'else 0 for t in format(y, '04b')[::-1]]\n",
    "        state_bits += nib_bits\n",
    "    # print(state_bits)\n",
    "    # print(len(state_bits))\n",
    "\n",
    "    state_p_layer = [0 for _ in range(64)]\n",
    "    for p_index, std_bits in enumerate(state_bits):\n",
    "        state_p_layer[p_layer_order[p_index]] = std_bits\n",
    "\n",
    "    # print(len(state_p_layer), state_p_layer)\n",
    "\n",
    "    round_output = 0\n",
    "    for index, ind_bit in enumerate(state_p_layer):\n",
    "        round_output += (ind_bit << index)\n",
    "\n",
    "    # print(format(round_output, '#016X'))\n",
    "\n",
    "    # print('')\n",
    "    return round_output\n",
    "\n",
    "\n",
    "def key_function_80(key, round_count):\n",
    "    # print('Start: ', hex(key))\n",
    "    # print('')\n",
    "\n",
    "    r = [1 if t == '1'else 0 for t in format(key, '080b')[::-1]]\n",
    "\n",
    "    # print('k bits:', r)\n",
    "    # print('')\n",
    "\n",
    "    h = r[-61:] + r[:-61]\n",
    "\n",
    "    # print('s bits:', h)\n",
    "    # print('')\n",
    "\n",
    "    round_key_int = 0\n",
    "    # print('init round int:', hex(round_key_int))\n",
    "    for index, ind_bit in enumerate(h):\n",
    "        round_key_int += (ind_bit << index)\n",
    "        # print('round:',index, '-', hex(round_key_int))\n",
    "\n",
    "    # print('round_key_int', hex(round_key_int))\n",
    "    # print('')\n",
    "\n",
    "    upper_nibble = round_key_int >> 76\n",
    "\n",
    "    # print('upper_nibble:', upper_nibble)\n",
    "\n",
    "    upper_nibble = s_box[upper_nibble]\n",
    "\n",
    "    # print('upper_nibble sboxed', hex(upper_nibble))\n",
    "\n",
    "    xor_portion = ((round_key_int >> 15) & 0x1F) ^ round_count\n",
    "    # print('Count:', round_count)\n",
    "    # print('XOR Value:', xor_portion)\n",
    "\n",
    "    # print('Before:', hex(round_key_int))\n",
    "    round_key_int = (round_key_int & 0x0FFFFFFFFFFFFFF07FFF) + (upper_nibble << 76) + (xor_portion << 15)\n",
    "    # print('After: ', hex(round_key_int))\n",
    "\n",
    "    return round_key_int\n",
    "\n",
    "\n",
    "\n",
    "test_vectors_80 = {1:(0x00000000000000000000, 0x0000000000000000, 0x5579C1387B228445),\n",
    "                2:(0xFFFFFFFFFFFFFFFFFFFF, 0x0000000000000000, 0xE72C46C0F5945049),\n",
    "                3:(0x00000000000000000000, 0xFFFFFFFFFFFFFFFF, 0xA112FFC72F68417B),\n",
    "                4:(0xFFFFFFFFFFFFFFFFFFFF, 0xFFFFFFFFFFFFFFFF, 0x3333DCD3213210D2)}\n",
    "        \n",
    "def PRESENT(P, K, ROUND):\n",
    "    key_schedule = []\n",
    "    current_round_key = K\n",
    "    round_state = P\n",
    "    \n",
    "    if(ROUND==0):\n",
    "        return P\n",
    "\n",
    "    for rnd_cnt in range(ROUND):\n",
    "        key_schedule.append(current_round_key >> 16)\n",
    "        current_round_key = key_function_80(current_round_key, rnd_cnt + 1)\n",
    "\n",
    "    for rnd in range(ROUND - 1):\n",
    "        round_state = round_function(round_state, key_schedule[rnd])\n",
    "\n",
    "    round_state ^= key_schedule[ROUND-1]\n",
    "    \n",
    "    return round_state"
   ]
  },
  {
   "cell_type": "code",
   "execution_count": 3,
   "metadata": {
    "id": "AwZVgDHVQpAz"
   },
   "outputs": [],
   "source": [
    "Wang_diff = [0x7000000000007000, 0x0700000000000700, 0x0070000000000070, 0x0007000000000007]\n",
    "BLOCK_SIZE = 64\n",
    "sample_num = 10000"
   ]
  },
  {
   "cell_type": "code",
   "execution_count": 4,
   "metadata": {
    "id": "xJrNRizYQpA0"
   },
   "outputs": [],
   "source": [
    "def gen(sample_num, ROUND):\n",
    "    P_set = []\n",
    "    K_set = []\n",
    "    for i in range(sample_num):\n",
    "        P_set.append(random.randrange(0,2**64))\n",
    "        #print(\"%x\" % P_set[i])\n",
    "        K_set.append(random.randrange(0,2**80))\n",
    "        #print(\"%x\" % K_set[i])\n",
    "\n",
    "    C_diff_set = []\n",
    "    C_diff_label = []\n",
    "    for i in range(sample_num):\n",
    "        P = P_set[i]\n",
    "        K = K_set[i]\n",
    "        C = PRESENT(P, K, ROUND)\n",
    "        for j in range(4):\n",
    "            Cj = PRESENT(P^Wang_diff[j], K, ROUND)\n",
    "            C_diff = C^Cj\n",
    "            #print(C_diff)\n",
    "            C_diff_set.append(C_diff)\n",
    "            temp = [0, 0, 0, 0]\n",
    "            temp[j] = 1\n",
    "            C_diff_label.append(temp)\n",
    "\n",
    "    tr_X = []\n",
    "    for C_diff in C_diff_set:\n",
    "        A = []\n",
    "        for j in range(BLOCK_SIZE):\n",
    "            A.append((C_diff>>j)&1)\n",
    "        tr_X.append(A)\n",
    "        #print(A)\n",
    "    tr_X = np.array(tr_X)\n",
    "\n",
    "    tr_X = []\n",
    "    for C_diff in C_diff_set:\n",
    "        A = []\n",
    "        for j in range(BLOCK_SIZE):\n",
    "            A.append((C_diff>>j)&1)\n",
    "        tr_X.append(A)\n",
    "        #print(A)\n",
    "    tr_X = np.array(tr_X)\n",
    "    tr_t = np.array(C_diff_label)\n",
    "\n",
    "    ind = np.arange(len(tr_X))\n",
    "    np.random.shuffle(ind)\n",
    "    tr_X = tr_X[ind]\n",
    "    tr_t = tr_t[ind]\n",
    "    \n",
    "    return tr_X, tr_t"
   ]
  },
  {
   "cell_type": "code",
   "execution_count": 5,
   "metadata": {},
   "outputs": [],
   "source": [
    "def gen_random(sample_num):\n",
    "    np.random.seed(0)\n",
    "    Dataset = []\n",
    "    Label = []\n",
    "    for i in range(sample_num):\n",
    "        data = random.randrange(0,2**64)\n",
    "        A = []\n",
    "        for j in range(BLOCK_SIZE):\n",
    "            A.append((data>>j)&1)\n",
    "        Dataset.append(A)\n",
    "        \n",
    "        temp = [0, 0, 0, 0]\n",
    "        temp[random.randrange(0,4)] = 1\n",
    "        Label.append(temp)\n",
    "        \n",
    "    Dataset = np.array(Dataset)\n",
    "    Label = np.array(Label)\n",
    "    \n",
    "    return Dataset, Label"
   ]
  },
  {
   "cell_type": "code",
   "execution_count": 6,
   "metadata": {},
   "outputs": [],
   "source": [
    "def sample_gen():\n",
    "    SAMPLE_NUM_RANGE = [10000, 50000, 100000]\n",
    "    ROUND_RANGE = [3, 4, 5, 6, 7, 8]\n",
    "    for sn in SAMPLE_NUM_RANGE:\n",
    "        for rn in ROUND_RANGE:\n",
    "            tr_X, tr_t = gen(sn, rn)\n",
    "            np.save(\"ROUND %d SAMPLE %d Dataset\" % (rn, sn), tr_X)\n",
    "            np.save(\"ROUND %d SAMPLE %d Label\" % (rn, sn), tr_t)\n",
    "\n",
    "def test_sample_gen_2(ROUND_RANGE = [6],TEST_SAMPLE_NUM=10000):\n",
    "    for rn in ROUND_RANGE:\n",
    "        te_X, te_t = gen(TEST_SAMPLE_NUM, rn)\n",
    "        np.save(\"ROUND %d TEST_SAMPLE %d Dataset\" % (rn, TEST_SAMPLE_NUM), te_X)\n",
    "        np.save(\"ROUND %d TEST_SAMPLE %d Label\" % (rn, TEST_SAMPLE_NUM), te_t)\n",
    "        \n",
    "def load_sample(SAMPLE_NUM, ROUND_NUM):\n",
    "    tr_X = np.load(\"ROUND %d SAMPLE %d Dataset.npy\" % (ROUND_NUM, SAMPLE_NUM))\n",
    "    tr_t = np.load(\"ROUND %d SAMPLE %d Label.npy\" % (ROUND_NUM, SAMPLE_NUM))\n",
    "    return tr_X, tr_t\n",
    "\n",
    "def load_test_sample_2(ROUND_NUM, SAMPLE_NUM=10000):\n",
    "    te_X = np.load(\"ROUND %d TEST_SAMPLE %d Dataset.npy\" % (ROUND_NUM, SAMPLE_NUM))\n",
    "    te_t = np.load(\"ROUND %d TEST_SAMPLE %d Label.npy\" % (ROUND_NUM, SAMPLE_NUM))\n",
    "    return te_X, te_t"
   ]
  },
  {
   "cell_type": "code",
   "execution_count": 7,
   "metadata": {
    "id": "RfujwI1AQpA1"
   },
   "outputs": [],
   "source": [
    "import tensorflow as tf\n",
    "import numpy as np\n",
    "import matplotlib.pyplot as plt\n",
    "\n",
    "\n",
    "class MLP:\n",
    "    def __init__(self, layer1=128, layer2=1028, layer3=None, reg=None, learning_rate=0.001):\n",
    "        self.layers = self._build_layers(layer1, layer2, layer3, reg)\n",
    "        self.model = tf.keras.Sequential(self.layers) \n",
    "        self.model.compile(optimizer=tf.keras.optimizers.Adam(lr=learning_rate), loss='categorical_crossentropy', metrics=['accuracy'])\n",
    "\n",
    "    def _build_layers(self, layer1, layer2, layer3, reg):\n",
    "        if layer3==None:\n",
    "            layers = [\n",
    "                tf.keras.layers.Flatten(input_shape=(64,)),\n",
    "                tf.keras.layers.Dense(layer1, activation='relu', kernel_regularizer=reg),\n",
    "                tf.keras.layers.Dense(layer2, activation='relu', kernel_regularizer=reg),\n",
    "                #tf.keras.layers.Dense(layer3, activation='relu', kernel_regularizer=reg),\n",
    "                tf.keras.layers.Dense(4, activation='softmax')\n",
    "            ]\n",
    "        else:\n",
    "            layers = [\n",
    "                tf.keras.layers.Flatten(input_shape=(64,)),\n",
    "                tf.keras.layers.Dense(layer1, activation='relu', kernel_regularizer=reg),\n",
    "                tf.keras.layers.Dense(layer2, activation='relu', kernel_regularizer=reg),\n",
    "                tf.keras.layers.Dense(layer3, activation='relu', kernel_regularizer=reg),\n",
    "                tf.keras.layers.Dense(4, activation='softmax')\n",
    "            ]\n",
    "        return layers\n",
    "\n",
    "    #그냥 cross entropy를 그대로 정의함\n",
    "    def _my_loss(self, y_true, y_pred):\n",
    "        y_true = tf.cast(y_true, tf.int32) #float32 => int32로 casting #None, 1\n",
    "        y_true = tf.squeeze(tf.one_hot(y_true, depth=10, dtype=tf.float32), 1) # one_hot encoding #None, 1, 10 #quezze => 1을 없애줌 => None, 10\n",
    "        y_pred = tf.nn.softmax(y_pred, 1) # 한 축에 대해 softmax를 적용해라 #1 => 열을 의미 #즉, 한 행에 있는 값을 다 더하면 1이 되도록 만들어줌\n",
    "\n",
    "        #cross entropy 그대로 적용\n",
    "        #-sum t*log y 한 후에 평균 냄\n",
    "        return -tf.reduce_mean(tf.reduce_sum(\n",
    "                tf.multiply(y_true, tf.math.log(y_pred)), 1))\n",
    "\n",
    "    def _my_accuracy(self, y_true, y_pred):\n",
    "        y_true = tf.cast(y_true, tf.int32)\n",
    "        y_true = tf.squeeze(tf.one_hot(y_true, depth=10, dtype=tf.float32), 1)\n",
    "        #argmax를 그대로 이용\n",
    "        return tf.reduce_mean(\n",
    "            tf.cast(\n",
    "                tf.equal(tf.argmax(y_true, 1), tf.argmax(y_pred, 1)), tf.float32))\n",
    "\n",
    "    def fit(self, x, t, epochs, batch_size=None, validation_split=0.0, verbose=1, shuffle=True, workers=2):\n",
    "        return self.model.fit(x, t, epochs=epochs, batch_size=batch_size, validation_split=validation_split, verbose=verbose, shuffle=shuffle, workers=workers)\n",
    "    \n",
    "    def evaluate(self, x=None, y=None, verbose=0):\n",
    "        return self.model.evaluate(x=x, y=y, verbose=verbose)\n",
    "    \n",
    "    def summary(self):\n",
    "        self.model.summary()\n",
    "    \n",
    "    def predict(self, x):\n",
    "        return self.model.predict(x)"
   ]
  },
  {
   "cell_type": "code",
   "execution_count": 8,
   "metadata": {},
   "outputs": [],
   "source": [
    "TEST_SAMPLE_NUM = 100000\n",
    "#test_sample_gen_2(TEST_SAMPLE_NUM=TEST_SAMPLE_NUM)"
   ]
  },
  {
   "cell_type": "code",
   "execution_count": null,
   "metadata": {},
   "outputs": [],
   "source": []
  },
  {
   "cell_type": "code",
   "execution_count": 20,
   "metadata": {
    "colab": {
     "base_uri": "https://localhost:8080/"
    },
    "id": "mhQTZ7KwQpA2",
    "outputId": "85b3d255-445f-463d-ba53-122475dfd771"
   },
   "outputs": [],
   "source": [
    "#Config\n",
    "ROUND = 6\n",
    "SAMPLE_NUM = 10000\n",
    "ITERATION = 5\n",
    "\n",
    "#Fix\n",
    "batch_size = 200\n",
    "epoch_size = 50\n",
    "validation_split = 0.3 #no meaning, but to make it same with base paper\n",
    "\n",
    "weight_L1 = 0.00012\n",
    "layer1 = 256\n",
    "layer2 = 2048\n",
    "reg = tf.keras.regularizers.L1(weight_L1)\n",
    "learning_rate = 0.0002\n",
    "\n",
    "#parameter\n",
    "verbose = 1"
   ]
  },
  {
   "cell_type": "code",
   "execution_count": null,
   "metadata": {},
   "outputs": [],
   "source": []
  },
  {
   "cell_type": "code",
   "execution_count": null,
   "metadata": {},
   "outputs": [],
   "source": []
  },
  {
   "cell_type": "code",
   "execution_count": 21,
   "metadata": {
    "scrolled": true
   },
   "outputs": [],
   "source": [
    "tr_X, tr_t = load_sample(SAMPLE_NUM=SAMPLE_NUM, ROUND_NUM=ROUND)\n",
    "te_X, te_t = load_test_sample_2(ROUND_NUM=ROUND, SAMPLE_NUM=TEST_SAMPLE_NUM)"
   ]
  },
  {
   "cell_type": "code",
   "execution_count": 22,
   "metadata": {},
   "outputs": [
    {
     "name": "stdout",
     "output_type": "stream",
     "text": [
      "Epoch 1/50\n",
      "140/140 [==============================] - 1s 9ms/step - loss: 2.7256 - accuracy: 0.2545 - val_loss: 2.3666 - val_accuracy: 0.2553\n",
      "Epoch 2/50\n",
      "140/140 [==============================] - 1s 8ms/step - loss: 2.1194 - accuracy: 0.2756 - val_loss: 1.9384 - val_accuracy: 0.2562\n",
      "Epoch 3/50\n",
      "140/140 [==============================] - 1s 8ms/step - loss: 1.8243 - accuracy: 0.2855 - val_loss: 1.7456 - val_accuracy: 0.2575\n",
      "Epoch 4/50\n",
      "140/140 [==============================] - 1s 8ms/step - loss: 1.6779 - accuracy: 0.2862 - val_loss: 1.6377 - val_accuracy: 0.2557\n",
      "Epoch 5/50\n",
      "140/140 [==============================] - 1s 8ms/step - loss: 1.5911 - accuracy: 0.2827 - val_loss: 1.5690 - val_accuracy: 0.2558\n",
      "Epoch 6/50\n",
      "140/140 [==============================] - 1s 8ms/step - loss: 1.5373 - accuracy: 0.2853 - val_loss: 1.5221 - val_accuracy: 0.2556\n",
      "Epoch 7/50\n",
      "140/140 [==============================] - 1s 8ms/step - loss: 1.5003 - accuracy: 0.2839 - val_loss: 1.4921 - val_accuracy: 0.2541\n",
      "Epoch 8/50\n",
      "140/140 [==============================] - 1s 8ms/step - loss: 1.4764 - accuracy: 0.2811 - val_loss: 1.4704 - val_accuracy: 0.2603\n",
      "Epoch 9/50\n",
      "140/140 [==============================] - 1s 8ms/step - loss: 1.4584 - accuracy: 0.2802 - val_loss: 1.4556 - val_accuracy: 0.2543\n",
      "Epoch 10/50\n",
      "140/140 [==============================] - 1s 8ms/step - loss: 1.4457 - accuracy: 0.2774 - val_loss: 1.4441 - val_accuracy: 0.2573\n",
      "Epoch 11/50\n",
      "140/140 [==============================] - 1s 8ms/step - loss: 1.4356 - accuracy: 0.2781 - val_loss: 1.4356 - val_accuracy: 0.2567\n",
      "Epoch 12/50\n",
      "140/140 [==============================] - 1s 8ms/step - loss: 1.4283 - accuracy: 0.2769 - val_loss: 1.4278 - val_accuracy: 0.2588\n",
      "Epoch 13/50\n",
      "140/140 [==============================] - 1s 8ms/step - loss: 1.4215 - accuracy: 0.2771 - val_loss: 1.4224 - val_accuracy: 0.2571\n",
      "Epoch 14/50\n",
      "140/140 [==============================] - 1s 8ms/step - loss: 1.4166 - accuracy: 0.2769 - val_loss: 1.4177 - val_accuracy: 0.2595\n",
      "Epoch 15/50\n",
      "140/140 [==============================] - 1s 8ms/step - loss: 1.4118 - accuracy: 0.2777 - val_loss: 1.4132 - val_accuracy: 0.2607\n",
      "Epoch 16/50\n",
      "140/140 [==============================] - 1s 8ms/step - loss: 1.4076 - accuracy: 0.2805 - val_loss: 1.4094 - val_accuracy: 0.2561\n",
      "Epoch 17/50\n",
      "140/140 [==============================] - 1s 8ms/step - loss: 1.4043 - accuracy: 0.2790 - val_loss: 1.4076 - val_accuracy: 0.2546\n",
      "Epoch 18/50\n",
      "140/140 [==============================] - 1s 8ms/step - loss: 1.4018 - accuracy: 0.2789 - val_loss: 1.4045 - val_accuracy: 0.2560\n",
      "Epoch 19/50\n",
      "140/140 [==============================] - 1s 8ms/step - loss: 1.3991 - accuracy: 0.2786 - val_loss: 1.4021 - val_accuracy: 0.2600\n",
      "Epoch 20/50\n",
      "140/140 [==============================] - 1s 8ms/step - loss: 1.3969 - accuracy: 0.2802 - val_loss: 1.4017 - val_accuracy: 0.2570\n",
      "Epoch 21/50\n",
      "140/140 [==============================] - 1s 8ms/step - loss: 1.3956 - accuracy: 0.2797 - val_loss: 1.3993 - val_accuracy: 0.2550\n",
      "Epoch 22/50\n",
      "140/140 [==============================] - 1s 8ms/step - loss: 1.3941 - accuracy: 0.2815 - val_loss: 1.3985 - val_accuracy: 0.2547\n",
      "Epoch 23/50\n",
      "140/140 [==============================] - 1s 8ms/step - loss: 1.3932 - accuracy: 0.2804 - val_loss: 1.3974 - val_accuracy: 0.2604\n",
      "Epoch 24/50\n",
      "140/140 [==============================] - 1s 8ms/step - loss: 1.3920 - accuracy: 0.2830 - val_loss: 1.3970 - val_accuracy: 0.2573\n",
      "Epoch 25/50\n",
      "140/140 [==============================] - 1s 8ms/step - loss: 1.3917 - accuracy: 0.2809 - val_loss: 1.3968 - val_accuracy: 0.2592\n",
      "Epoch 26/50\n",
      "140/140 [==============================] - 1s 8ms/step - loss: 1.3910 - accuracy: 0.2792 - val_loss: 1.3973 - val_accuracy: 0.2545\n",
      "Epoch 27/50\n",
      "140/140 [==============================] - 1s 8ms/step - loss: 1.3902 - accuracy: 0.2846 - val_loss: 1.3956 - val_accuracy: 0.2589\n",
      "Epoch 28/50\n",
      "140/140 [==============================] - 1s 8ms/step - loss: 1.3900 - accuracy: 0.2826 - val_loss: 1.3956 - val_accuracy: 0.2602\n",
      "Epoch 29/50\n",
      "140/140 [==============================] - 1s 8ms/step - loss: 1.3895 - accuracy: 0.2815 - val_loss: 1.3954 - val_accuracy: 0.2594\n",
      "Epoch 30/50\n",
      "140/140 [==============================] - 1s 8ms/step - loss: 1.3889 - accuracy: 0.2825 - val_loss: 1.3954 - val_accuracy: 0.2559\n",
      "Epoch 31/50\n",
      "140/140 [==============================] - 1s 8ms/step - loss: 1.3887 - accuracy: 0.2825 - val_loss: 1.3951 - val_accuracy: 0.2588\n",
      "Epoch 32/50\n",
      "140/140 [==============================] - 1s 8ms/step - loss: 1.3885 - accuracy: 0.2844 - val_loss: 1.3956 - val_accuracy: 0.2566\n",
      "Epoch 33/50\n",
      "140/140 [==============================] - 1s 8ms/step - loss: 1.3881 - accuracy: 0.2843 - val_loss: 1.3954 - val_accuracy: 0.2562\n",
      "Epoch 34/50\n",
      "140/140 [==============================] - 1s 8ms/step - loss: 1.3879 - accuracy: 0.2860 - val_loss: 1.3947 - val_accuracy: 0.2612\n",
      "Epoch 35/50\n",
      "140/140 [==============================] - 1s 8ms/step - loss: 1.3876 - accuracy: 0.2831 - val_loss: 1.3950 - val_accuracy: 0.2558\n",
      "Epoch 36/50\n",
      "140/140 [==============================] - 1s 8ms/step - loss: 1.3874 - accuracy: 0.2842 - val_loss: 1.3947 - val_accuracy: 0.2561\n",
      "Epoch 37/50\n",
      "140/140 [==============================] - 1s 8ms/step - loss: 1.3873 - accuracy: 0.2860 - val_loss: 1.3945 - val_accuracy: 0.2615\n",
      "Epoch 38/50\n",
      "140/140 [==============================] - 1s 8ms/step - loss: 1.3870 - accuracy: 0.2846 - val_loss: 1.3946 - val_accuracy: 0.2585\n",
      "Epoch 39/50\n",
      "140/140 [==============================] - 1s 8ms/step - loss: 1.3869 - accuracy: 0.2845 - val_loss: 1.3949 - val_accuracy: 0.2578\n",
      "Epoch 40/50\n",
      "140/140 [==============================] - 1s 8ms/step - loss: 1.3867 - accuracy: 0.2851 - val_loss: 1.3947 - val_accuracy: 0.2564\n",
      "Epoch 41/50\n",
      "140/140 [==============================] - 1s 8ms/step - loss: 1.3866 - accuracy: 0.2866 - val_loss: 1.3950 - val_accuracy: 0.2583\n",
      "Epoch 42/50\n",
      "140/140 [==============================] - 1s 8ms/step - loss: 1.3864 - accuracy: 0.2838 - val_loss: 1.3950 - val_accuracy: 0.2587\n",
      "Epoch 43/50\n",
      "140/140 [==============================] - 1s 8ms/step - loss: 1.3862 - accuracy: 0.2860 - val_loss: 1.3950 - val_accuracy: 0.2617\n",
      "Epoch 44/50\n",
      "140/140 [==============================] - 1s 8ms/step - loss: 1.3863 - accuracy: 0.2848 - val_loss: 1.3950 - val_accuracy: 0.2589\n",
      "Epoch 45/50\n",
      "140/140 [==============================] - 1s 8ms/step - loss: 1.3860 - accuracy: 0.2868 - val_loss: 1.3951 - val_accuracy: 0.2609\n",
      "Epoch 46/50\n",
      "140/140 [==============================] - 1s 8ms/step - loss: 1.3859 - accuracy: 0.2884 - val_loss: 1.3947 - val_accuracy: 0.2612\n",
      "Epoch 47/50\n",
      "140/140 [==============================] - 1s 8ms/step - loss: 1.3858 - accuracy: 0.2868 - val_loss: 1.3949 - val_accuracy: 0.2592\n",
      "Epoch 48/50\n",
      "140/140 [==============================] - 1s 8ms/step - loss: 1.3856 - accuracy: 0.2863 - val_loss: 1.3959 - val_accuracy: 0.2565\n",
      "Epoch 49/50\n",
      "140/140 [==============================] - 1s 8ms/step - loss: 1.3857 - accuracy: 0.2869 - val_loss: 1.3956 - val_accuracy: 0.2564\n",
      "Epoch 50/50\n",
      "140/140 [==============================] - 1s 8ms/step - loss: 1.3855 - accuracy: 0.2876 - val_loss: 1.3955 - val_accuracy: 0.2592\n"
     ]
    }
   ],
   "source": [
    "model = MLP(layer1=layer1, layer2=layer2, reg = reg, learning_rate=learning_rate)\n",
    "results = model.fit(tr_X, tr_t, epochs=epoch_size, batch_size=batch_size, validation_split = validation_split, shuffle=True, verbose=verbose)"
   ]
  },
  {
   "cell_type": "code",
   "execution_count": 23,
   "metadata": {},
   "outputs": [
    {
     "data": {
      "text/plain": [
       "[1.3940370082855225, 0.2616249918937683]"
      ]
     },
     "execution_count": 23,
     "metadata": {},
     "output_type": "execute_result"
    }
   ],
   "source": [
    "model.evaluate(te_X, te_t)"
   ]
  },
  {
   "cell_type": "code",
   "execution_count": 24,
   "metadata": {},
   "outputs": [],
   "source": [
    "RANDOM_SAMPLE_NUM = 100000\n",
    "TEST_NUM = 100\n",
    "TEST_ITERATION = 50\n",
    "SEPARATION = 0.256"
   ]
  },
  {
   "cell_type": "code",
   "execution_count": 25,
   "metadata": {},
   "outputs": [],
   "source": [
    "random_X, random_t = gen_random(RANDOM_SAMPLE_NUM)"
   ]
  },
  {
   "cell_type": "code",
   "execution_count": 26,
   "metadata": {},
   "outputs": [
    {
     "data": {
      "text/plain": [
       "[1.3984529972076416, 0.250900000333786]"
      ]
     },
     "execution_count": 26,
     "metadata": {},
     "output_type": "execute_result"
    }
   ],
   "source": [
    "model.evaluate(random_X, random_t)"
   ]
  },
  {
   "cell_type": "code",
   "execution_count": 39,
   "metadata": {},
   "outputs": [],
   "source": [
    "def TEST(model=model, TEST_NUM=TEST_NUM, TEST_ITERATION=TEST_ITERATION, SEPARATION=SEPARATION):\n",
    "    TEST_ACCURACY = 0.0\n",
    "    RECALL = 0.0\n",
    "    PRECISION_W = 0\n",
    "    PRECISION_T = 0\n",
    "    PRECISION = 0.0\n",
    "    for i in range(TEST_ITERATION):\n",
    "        #if(i%(TEST_ITERATION/10)==0):\n",
    "            #print(\"%d done\" % (i/(TEST_ITERATION/10)))\n",
    "        idx = TEST_NUM*i\n",
    "        result = model.evaluate(random_X[idx:idx+TEST_NUM], random_t[idx:idx+TEST_NUM])\n",
    "        acc = result[1]\n",
    "        #print(acc)\n",
    "        if(acc < SEPARATION):\n",
    "            TEST_ACCURACY = TEST_ACCURACY + 1.0/(TEST_ITERATION*2)\n",
    "            PRECISION_W = PRECISION_W + 1\n",
    "            PRECISION_T = PRECISION_T + 1\n",
    "        result = model.evaluate(te_X[idx:idx+TEST_NUM],te_t[idx:idx+TEST_NUM])\n",
    "        acc = result[1]\n",
    "        #print(acc)\n",
    "        if(acc >= SEPARATION):\n",
    "            TEST_ACCURACY = TEST_ACCURACY + 1.0/(TEST_ITERATION*2)\n",
    "            RECALL = RECALL + 1.0/(TEST_ITERATION)\n",
    "        else:\n",
    "            PRECISION_W = PRECISION_W + 1\n",
    "        #print(\"TEST ACCURACY : %f\" % TEST_ACCURACY)\n",
    "    print(\"FIANL TEST ACCURACY : %f\" % TEST_ACCURACY)\n",
    "    PRECISION = (PRECISION_T*1.0)/(PRECISION_W)\n",
    "    return TEST_ACCURACY, RECALL, PRECISION"
   ]
  },
  {
   "cell_type": "code",
   "execution_count": 28,
   "metadata": {},
   "outputs": [
    {
     "name": "stdout",
     "output_type": "stream",
     "text": [
      "(400000, 64)\n"
     ]
    }
   ],
   "source": [
    "print(te_X.shape)"
   ]
  },
  {
   "cell_type": "code",
   "execution_count": 29,
   "metadata": {},
   "outputs": [],
   "source": [
    "TN = [100, 200, 300, 400, 500, 600, 700, 800, 900, 1000]\n",
    "TA = []"
   ]
  },
  {
   "cell_type": "code",
   "execution_count": 30,
   "metadata": {},
   "outputs": [
    {
     "name": "stdout",
     "output_type": "stream",
     "text": [
      "FIANL TEST ACCURACY : 0.600000\n",
      "FIANL TEST ACCURACY : 0.700000\n",
      "FIANL TEST ACCURACY : 0.630000\n",
      "FIANL TEST ACCURACY : 0.660000\n",
      "FIANL TEST ACCURACY : 0.600000\n",
      "FIANL TEST ACCURACY : 0.670000\n",
      "FIANL TEST ACCURACY : 0.700000\n",
      "FIANL TEST ACCURACY : 0.730000\n",
      "FIANL TEST ACCURACY : 0.720000\n",
      "FIANL TEST ACCURACY : 0.710000\n"
     ]
    }
   ],
   "source": [
    "for tn in TN:\n",
    "    TEST_ACCURACY, RECALL, PRECISION = TEST(TEST_NUM=tn)\n",
    "    TA.append(TEST_ACCURACY)"
   ]
  },
  {
   "cell_type": "code",
   "execution_count": 31,
   "metadata": {},
   "outputs": [
    {
     "name": "stdout",
     "output_type": "stream",
     "text": [
      "[0.6000000000000003, 0.7000000000000004, 0.6300000000000003, 0.6600000000000004, 0.6000000000000003, 0.6700000000000004, 0.7000000000000004, 0.7300000000000004, 0.7200000000000004, 0.7100000000000004]\n"
     ]
    }
   ],
   "source": [
    "print(TA)"
   ]
  },
  {
   "cell_type": "code",
   "execution_count": 32,
   "metadata": {},
   "outputs": [
    {
     "data": {
      "text/plain": [
       "[<matplotlib.lines.Line2D at 0x1c2394c94a8>]"
      ]
     },
     "execution_count": 32,
     "metadata": {},
     "output_type": "execute_result"
    },
    {
     "data": {
      "image/png": "[encoded data removed]",
      "text/plain": [
       "<Figure size 432x288 with 1 Axes>"
      ]
     },
     "metadata": {
      "needs_background": "light"
     },
     "output_type": "display_data"
    }
   ],
   "source": [
    "plt.plot(TN, TA)"
   ]
  },
  {
   "cell_type": "code",
   "execution_count": 33,
   "metadata": {},
   "outputs": [
    {
     "name": "stdout",
     "output_type": "stream",
     "text": [
      "FIANL TEST ACCURACY : 0.680000\n"
     ]
    }
   ],
   "source": [
    "TEST_ACCURACY, RECALL, PRECISION = TEST(TEST_NUM=1000, TEST_ITERATION=100)"
   ]
  },
  {
   "cell_type": "code",
   "execution_count": 34,
   "metadata": {},
   "outputs": [],
   "source": [
    "SEPARATION_LIST = [0.251, 0.252, 0.253, 0.254, 0.255, 0.256, 0.257, 0.258, 0.259, 0.260]\n",
    "TN = [1000]"
   ]
  },
  {
   "cell_type": "code",
   "execution_count": 40,
   "metadata": {},
   "outputs": [
    {
     "name": "stdout",
     "output_type": "stream",
     "text": [
      "FIANL TEST ACCURACY : 0.730000\n",
      "FIANL TEST ACCURACY : 0.730000\n",
      "FIANL TEST ACCURACY : 0.710000\n",
      "FIANL TEST ACCURACY : 0.710000\n",
      "FIANL TEST ACCURACY : 0.710000\n",
      "FIANL TEST ACCURACY : 0.710000\n",
      "FIANL TEST ACCURACY : 0.740000\n",
      "FIANL TEST ACCURACY : 0.730000\n",
      "FIANL TEST ACCURACY : 0.730000\n",
      "FIANL TEST ACCURACY : 0.720000\n"
     ]
    }
   ],
   "source": [
    "ACC = []\n",
    "REC = []\n",
    "PREC = []\n",
    "for sp in SEPARATION_LIST:\n",
    "    TEST_ACCURACY, RECALL, PRECISION = TEST(TEST_NUM=1000, SEPARATION=sp)\n",
    "    ACC.append(TEST_ACCURACY)\n",
    "    REC.append(RECALL)\n",
    "    PREC.append(PRECISION)"
   ]
  },
  {
   "cell_type": "code",
   "execution_count": 41,
   "metadata": {
    "scrolled": true
   },
   "outputs": [
    {
     "data": {
      "text/plain": [
       "[<matplotlib.lines.Line2D at 0x1c237d0dda0>]"
      ]
     },
     "execution_count": 41,
     "metadata": {},
     "output_type": "execute_result"
    },
    {
     "data": {
      "image/png": "[encoded data removed]",
      "text/plain": [
       "<Figure size 432x288 with 1 Axes>"
      ]
     },
     "metadata": {
      "needs_background": "light"
     },
     "output_type": "display_data"
    }
   ],
   "source": [
    "plt.plot(SEPARATION_LIST, ACC)"
   ]
  },
  {
   "cell_type": "code",
   "execution_count": 42,
   "metadata": {},
   "outputs": [
    {
     "data": {
      "text/plain": [
       "[<matplotlib.lines.Line2D at 0x1c239228eb8>]"
      ]
     },
     "execution_count": 42,
     "metadata": {},
     "output_type": "execute_result"
    },
    {
     "data": {
      "image/png": "[encoded data removed]",
      "text/plain": [
       "<Figure size 432x288 with 1 Axes>"
      ]
     },
     "metadata": {
      "needs_background": "light"
     },
     "output_type": "display_data"
    }
   ],
   "source": [
    "plt.plot(SEPARATION_LIST, REC)"
   ]
  },
  {
   "cell_type": "code",
   "execution_count": 44,
   "metadata": {},
   "outputs": [
    {
     "data": {
      "text/plain": [
       "[<matplotlib.lines.Line2D at 0x1c23919dd68>]"
      ]
     },
     "execution_count": 44,
     "metadata": {},
     "output_type": "execute_result"
    },
    {
     "data": {
      "image/png": "[encoded data removed]",
      "text/plain": [
       "<Figure size 432x288 with 1 Axes>"
      ]
     },
     "metadata": {
      "needs_background": "light"
     },
     "output_type": "display_data"
    }
   ],
   "source": [
    "plt.plot(SEPARATION_LIST, PREC)"
   ]
  },
  {
   "cell_type": "code",
   "execution_count": null,
   "metadata": {},
   "outputs": [],
   "source": []
  }
 ],
 "metadata": {
  "colab": {
   "collapsed_sections": [],
   "name": "v2.ipynb",
   "provenance": []
  },
  "kernelspec": {
   "display_name": "Python 3",
   "language": "python",
   "name": "python3"
  },
  "language_info": {
   "codemirror_mode": {
    "name": "ipython",
    "version": 3
   },
   "file_extension": ".py",
   "mimetype": "text/x-python",
   "name": "python",
   "nbconvert_exporter": "python",
   "pygments_lexer": "ipython3",
   "version": "3.6.8"
  }
 },
 "nbformat": 4,
 "nbformat_minor": 1
}
