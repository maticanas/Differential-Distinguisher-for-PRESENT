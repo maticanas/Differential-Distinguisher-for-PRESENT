{
 "cells": [
  {
   "cell_type": "code",
   "execution_count": 1,
   "metadata": {},
   "outputs": [],
   "source": [
    "import tensorflow as tf\n",
    "import numpy as np\n",
    "import matplotlib.pyplot as plt\n",
    "import random"
   ]
  },
  {
   "cell_type": "code",
   "execution_count": 2,
   "metadata": {
    "colab": {
     "base_uri": "https://localhost:8080/"
    },
    "id": "NXVzTjGSQpAx",
    "outputId": "31cbc208-81e9-4251-95e5-a53c46575581"
   },
   "outputs": [],
   "source": [
    "\"\"\"\n",
    "https://github.com/inmcm/present_cipher/tree/master/python\n",
    "\"\"\"\n",
    "# coding: utf-8\n",
    "from __future__ import print_function\n",
    "\n",
    "s_box = (0xC, 0x5, 0x6, 0xB, 0x9, 0x0, 0xA, 0xD, 0x3, 0xE, 0xF, 0x8, 0x4, 0x7, 0x1, 0x2)\n",
    "\n",
    "inv_s_box = (0x5, 0xE, 0xF, 0x8, 0xC, 0x1, 0x2, 0xD, 0xB, 0x4, 0x6, 0x3, 0x0, 0x7, 0x9, 0xA)\n",
    "\n",
    "p_layer_order = [0, 16, 32, 48, 1, 17, 33, 49, 2, 18, 34, 50, 3, 19, 35, 51, 4, 20, 36, 52, 5, 21, 37, 53, 6, 22, 38,\n",
    "                 54, 7, 23, 39, 55, 8, 24, 40, 56, 9, 25, 41, 57, 10, 26, 42, 58, 11, 27, 43, 59, 12, 28, 44, 60, 13,\n",
    "                 29, 45, 61, 14, 30, 46, 62, 15, 31, 47, 63]\n",
    "\n",
    "block_size = 64\n",
    "\n",
    "ROUND_LIMIT = 32\n",
    "\n",
    "\n",
    "def round_function(state, key):\n",
    "    new_state = state ^ key\n",
    "    state_nibs = []\n",
    "    for x in range(0, block_size, 4):\n",
    "        nib = (new_state >> x) & 0xF\n",
    "        sb_nib = s_box[nib]\n",
    "        state_nibs.append(sb_nib)\n",
    "    # print(state_nibs)\n",
    "\n",
    "    state_bits = []\n",
    "    for y in state_nibs:\n",
    "        nib_bits = [1 if t == '1'else 0 for t in format(y, '04b')[::-1]]\n",
    "        state_bits += nib_bits\n",
    "    # print(state_bits)\n",
    "    # print(len(state_bits))\n",
    "\n",
    "    state_p_layer = [0 for _ in range(64)]\n",
    "    for p_index, std_bits in enumerate(state_bits):\n",
    "        state_p_layer[p_layer_order[p_index]] = std_bits\n",
    "\n",
    "    # print(len(state_p_layer), state_p_layer)\n",
    "\n",
    "    round_output = 0\n",
    "    for index, ind_bit in enumerate(state_p_layer):\n",
    "        round_output += (ind_bit << index)\n",
    "\n",
    "    # print(format(round_output, '#016X'))\n",
    "\n",
    "    # print('')\n",
    "    return round_output\n",
    "\n",
    "\n",
    "def key_function_80(key, round_count):\n",
    "    # print('Start: ', hex(key))\n",
    "    # print('')\n",
    "\n",
    "    r = [1 if t == '1'else 0 for t in format(key, '080b')[::-1]]\n",
    "\n",
    "    # print('k bits:', r)\n",
    "    # print('')\n",
    "\n",
    "    h = r[-61:] + r[:-61]\n",
    "\n",
    "    # print('s bits:', h)\n",
    "    # print('')\n",
    "\n",
    "    round_key_int = 0\n",
    "    # print('init round int:', hex(round_key_int))\n",
    "    for index, ind_bit in enumerate(h):\n",
    "        round_key_int += (ind_bit << index)\n",
    "        # print('round:',index, '-', hex(round_key_int))\n",
    "\n",
    "    # print('round_key_int', hex(round_key_int))\n",
    "    # print('')\n",
    "\n",
    "    upper_nibble = round_key_int >> 76\n",
    "\n",
    "    # print('upper_nibble:', upper_nibble)\n",
    "\n",
    "    upper_nibble = s_box[upper_nibble]\n",
    "\n",
    "    # print('upper_nibble sboxed', hex(upper_nibble))\n",
    "\n",
    "    xor_portion = ((round_key_int >> 15) & 0x1F) ^ round_count\n",
    "    # print('Count:', round_count)\n",
    "    # print('XOR Value:', xor_portion)\n",
    "\n",
    "    # print('Before:', hex(round_key_int))\n",
    "    round_key_int = (round_key_int & 0x0FFFFFFFFFFFFFF07FFF) + (upper_nibble << 76) + (xor_portion << 15)\n",
    "    # print('After: ', hex(round_key_int))\n",
    "\n",
    "    return round_key_int\n",
    "\n",
    "\n",
    "\n",
    "test_vectors_80 = {1:(0x00000000000000000000, 0x0000000000000000, 0x5579C1387B228445),\n",
    "                2:(0xFFFFFFFFFFFFFFFFFFFF, 0x0000000000000000, 0xE72C46C0F5945049),\n",
    "                3:(0x00000000000000000000, 0xFFFFFFFFFFFFFFFF, 0xA112FFC72F68417B),\n",
    "                4:(0xFFFFFFFFFFFFFFFFFFFF, 0xFFFFFFFFFFFFFFFF, 0x3333DCD3213210D2)}\n",
    "        \n",
    "def PRESENT(P, K, ROUND):\n",
    "    key_schedule = []\n",
    "    current_round_key = K\n",
    "    round_state = P\n",
    "    \n",
    "    if(ROUND==0):\n",
    "        return P\n",
    "\n",
    "    for rnd_cnt in range(ROUND):\n",
    "        key_schedule.append(current_round_key >> 16)\n",
    "        current_round_key = key_function_80(current_round_key, rnd_cnt + 1)\n",
    "\n",
    "    for rnd in range(ROUND - 1):\n",
    "        round_state = round_function(round_state, key_schedule[rnd])\n",
    "\n",
    "    round_state ^= key_schedule[ROUND-1]\n",
    "    \n",
    "    return round_state"
   ]
  },
  {
   "cell_type": "code",
   "execution_count": 3,
   "metadata": {
    "id": "AwZVgDHVQpAz"
   },
   "outputs": [],
   "source": [
    "Wang_diff = [0x7000000000007000, 0x0700000000000700, 0x0070000000000070, 0x0007000000000007]\n",
    "BLOCK_SIZE = 64\n",
    "sample_num = 10000"
   ]
  },
  {
   "cell_type": "code",
   "execution_count": 4,
   "metadata": {
    "id": "xJrNRizYQpA0"
   },
   "outputs": [],
   "source": [
    "def gen(sample_num, ROUND):\n",
    "    P_set = []\n",
    "    K_set = []\n",
    "    for i in range(sample_num):\n",
    "        P_set.append(random.randrange(0,2**64))\n",
    "        #print(\"%x\" % P_set[i])\n",
    "        K_set.append(random.randrange(0,2**80))\n",
    "        #print(\"%x\" % K_set[i])\n",
    "\n",
    "    C_diff_set = []\n",
    "    C_diff_label = []\n",
    "    for i in range(sample_num):\n",
    "        P = P_set[i]\n",
    "        K = K_set[i]\n",
    "        C = PRESENT(P, K, ROUND)\n",
    "        for j in range(4):\n",
    "            Cj = PRESENT(P^Wang_diff[j], K, ROUND)\n",
    "            C_diff = C^Cj\n",
    "            #print(C_diff)\n",
    "            C_diff_set.append(C_diff)\n",
    "            temp = [0, 0, 0, 0]\n",
    "            temp[j] = 1\n",
    "            C_diff_label.append(temp)\n",
    "\n",
    "    tr_X = []\n",
    "    for C_diff in C_diff_set:\n",
    "        A = []\n",
    "        for j in range(BLOCK_SIZE):\n",
    "            A.append((C_diff>>j)&1)\n",
    "        tr_X.append(A)\n",
    "        #print(A)\n",
    "    tr_X = np.array(tr_X)\n",
    "\n",
    "    tr_X = []\n",
    "    for C_diff in C_diff_set:\n",
    "        A = []\n",
    "        for j in range(BLOCK_SIZE):\n",
    "            A.append((C_diff>>j)&1)\n",
    "        tr_X.append(A)\n",
    "        #print(A)\n",
    "    tr_X = np.array(tr_X)\n",
    "    tr_t = np.array(C_diff_label)\n",
    "\n",
    "    ind = np.arange(len(tr_X))\n",
    "    np.random.shuffle(ind)\n",
    "    tr_X = tr_X[ind]\n",
    "    tr_t = tr_t[ind]\n",
    "    \n",
    "    return tr_X, tr_t"
   ]
  },
  {
   "cell_type": "code",
   "execution_count": 5,
   "metadata": {},
   "outputs": [],
   "source": [
    "def gen_random(sample_num):\n",
    "    np.random.seed(0)\n",
    "    Dataset = []\n",
    "    Label = []\n",
    "    for i in range(sample_num):\n",
    "        data = random.randrange(0,2**64)\n",
    "        A = []\n",
    "        for j in range(BLOCK_SIZE):\n",
    "            A.append((data>>j)&1)\n",
    "        Dataset.append(A)\n",
    "        \n",
    "        temp = [0, 0, 0, 0]\n",
    "        temp[random.randrange(0,4)] = 1\n",
    "        Label.append(temp)\n",
    "        \n",
    "    Dataset = np.array(Dataset)\n",
    "    Label = np.array(Label)\n",
    "    \n",
    "    return Dataset, Label"
   ]
  },
  {
   "cell_type": "code",
   "execution_count": 6,
   "metadata": {},
   "outputs": [],
   "source": [
    "def sample_gen():\n",
    "    SAMPLE_NUM_RANGE = [10000, 50000, 100000]\n",
    "    ROUND_RANGE = [3, 4, 5, 6, 7, 8]\n",
    "    for sn in SAMPLE_NUM_RANGE:\n",
    "        for rn in ROUND_RANGE:\n",
    "            tr_X, tr_t = gen(sn, rn)\n",
    "            np.save(\"ROUND %d SAMPLE %d Dataset\" % (rn, sn), tr_X)\n",
    "            np.save(\"ROUND %d SAMPLE %d Label\" % (rn, sn), tr_t)\n",
    "\n",
    "def test_sample_gen():\n",
    "    TEST_SMAPLE_NUM = 10000\n",
    "    for rn in ROUND_RANGE:\n",
    "        te_X, te_t = gen(TEST_SMAPLE_NUM, rn)\n",
    "        np.save(\"ROUND %d TEST_SAMPLE Dataset\" % (rn), te_X)\n",
    "        np.save(\"ROUND %d TEST_SAMPLE Label\" % (rn), te_t)\n",
    "        \n",
    "def load_sample(SAMPLE_NUM, ROUND_NUM):\n",
    "    tr_X = np.load(\"ROUND %d SAMPLE %d Dataset.npy\" % (ROUND_NUM, SAMPLE_NUM))\n",
    "    tr_t = np.load(\"ROUND %d SAMPLE %d Label.npy\" % (ROUND_NUM, SAMPLE_NUM))\n",
    "    return tr_X, tr_t\n",
    "\n",
    "def load_test_sample(ROUND_NUM):\n",
    "    te_X = np.load(\"ROUND %d TEST_SAMPLE Dataset.npy\" % (ROUND_NUM))\n",
    "    te_t = np.load(\"ROUND %d TEST_SAMPLE Label.npy\" % (ROUND_NUM))\n",
    "    return te_X, te_t"
   ]
  },
  {
   "cell_type": "code",
   "execution_count": 7,
   "metadata": {
    "id": "RfujwI1AQpA1"
   },
   "outputs": [],
   "source": [
    "import tensorflow as tf\n",
    "import numpy as np\n",
    "import matplotlib.pyplot as plt\n",
    "\n",
    "\n",
    "class MLP:\n",
    "    def __init__(self, layer1=128, layer2=1028, layer3=None, reg=None, learning_rate=0.001):\n",
    "        self.layers = self._build_layers(layer1, layer2, layer3, reg)\n",
    "        self.model = tf.keras.Sequential(self.layers) \n",
    "        self.model.compile(optimizer=tf.keras.optimizers.Adam(lr=learning_rate), loss='categorical_crossentropy', metrics=['accuracy'])\n",
    "\n",
    "    def _build_layers(self, layer1, layer2, layer3, reg):\n",
    "        if layer3==None:\n",
    "            layers = [\n",
    "                tf.keras.layers.Flatten(input_shape=(64,)),\n",
    "                tf.keras.layers.Dense(layer1, activation='relu', kernel_regularizer=reg),\n",
    "                tf.keras.layers.Dense(layer2, activation='relu', kernel_regularizer=reg),\n",
    "                #tf.keras.layers.Dense(layer3, activation='relu', kernel_regularizer=reg),\n",
    "                tf.keras.layers.Dense(4, activation='softmax')\n",
    "            ]\n",
    "        else:\n",
    "            layers = [\n",
    "                tf.keras.layers.Flatten(input_shape=(64,)),\n",
    "                tf.keras.layers.Dense(layer1, activation='relu', kernel_regularizer=reg),\n",
    "                tf.keras.layers.Dense(layer2, activation='relu', kernel_regularizer=reg),\n",
    "                tf.keras.layers.Dense(layer3, activation='relu', kernel_regularizer=reg),\n",
    "                tf.keras.layers.Dense(4, activation='softmax')\n",
    "            ]\n",
    "        return layers\n",
    "\n",
    "    #그냥 cross entropy를 그대로 정의함\n",
    "    def _my_loss(self, y_true, y_pred):\n",
    "        y_true = tf.cast(y_true, tf.int32) #float32 => int32로 casting #None, 1\n",
    "        y_true = tf.squeeze(tf.one_hot(y_true, depth=10, dtype=tf.float32), 1) # one_hot encoding #None, 1, 10 #quezze => 1을 없애줌 => None, 10\n",
    "        y_pred = tf.nn.softmax(y_pred, 1) # 한 축에 대해 softmax를 적용해라 #1 => 열을 의미 #즉, 한 행에 있는 값을 다 더하면 1이 되도록 만들어줌\n",
    "\n",
    "        #cross entropy 그대로 적용\n",
    "        #-sum t*log y 한 후에 평균 냄\n",
    "        return -tf.reduce_mean(tf.reduce_sum(\n",
    "                tf.multiply(y_true, tf.math.log(y_pred)), 1))\n",
    "\n",
    "    def _my_accuracy(self, y_true, y_pred):\n",
    "        y_true = tf.cast(y_true, tf.int32)\n",
    "        y_true = tf.squeeze(tf.one_hot(y_true, depth=10, dtype=tf.float32), 1)\n",
    "        #argmax를 그대로 이용\n",
    "        return tf.reduce_mean(\n",
    "            tf.cast(\n",
    "                tf.equal(tf.argmax(y_true, 1), tf.argmax(y_pred, 1)), tf.float32))\n",
    "\n",
    "    def fit(self, x, t, epochs, batch_size=None, validation_split=0.0, verbose=1, shuffle=True, workers=2):\n",
    "        return self.model.fit(x, t, epochs=epochs, batch_size=batch_size, validation_split=validation_split, verbose=verbose, shuffle=shuffle, workers=workers)\n",
    "    \n",
    "    def evaluate(self, x=None, y=None, verbose=0):\n",
    "        return self.model.evaluate(x=x, y=y, verbose=verbose)\n",
    "    \n",
    "    def summary(self):\n",
    "        self.model.summary()\n",
    "    \n",
    "    def predict(self, x):\n",
    "        return self.model.predict(x)"
   ]
  },
  {
   "cell_type": "code",
   "execution_count": 8,
   "metadata": {
    "colab": {
     "base_uri": "https://localhost:8080/"
    },
    "id": "mhQTZ7KwQpA2",
    "outputId": "85b3d255-445f-463d-ba53-122475dfd771"
   },
   "outputs": [],
   "source": [
    "#Config\n",
    "ROUND = 5\n",
    "SAMPLE_NUM = 10000\n",
    "ITERATION = 5\n",
    "\n",
    "#Fix\n",
    "batch_size = 200\n",
    "epoch_size = 25\n",
    "validation_split = 0.3 #no meaning, but to make it same with base paper\n",
    "\n",
    "weight_L1 = 0.000204\n",
    "layer1 = 128\n",
    "layer2 = 512\n",
    "reg = tf.keras.regularizers.L1(weight_L1)\n",
    "learning_rate = 0.0037\n",
    "\n",
    "#parameter\n",
    "verbose = 1"
   ]
  },
  {
   "cell_type": "code",
   "execution_count": null,
   "metadata": {},
   "outputs": [],
   "source": []
  },
  {
   "cell_type": "code",
   "execution_count": null,
   "metadata": {},
   "outputs": [],
   "source": []
  },
  {
   "cell_type": "code",
   "execution_count": 9,
   "metadata": {
    "scrolled": true
   },
   "outputs": [],
   "source": [
    "tr_X, tr_t = load_sample(SAMPLE_NUM=SAMPLE_NUM, ROUND_NUM=ROUND)\n",
    "te_X, te_t = load_test_sample(ROUND_NUM=ROUND)"
   ]
  },
  {
   "cell_type": "code",
   "execution_count": 10,
   "metadata": {},
   "outputs": [
    {
     "name": "stdout",
     "output_type": "stream",
     "text": [
      "Epoch 1/25\n",
      "140/140 [==============================] - 0s 3ms/step - loss: 1.5816 - accuracy: 0.3624 - val_loss: 1.3862 - val_accuracy: 0.3776\n",
      "Epoch 2/25\n",
      "140/140 [==============================] - 0s 2ms/step - loss: 1.3303 - accuracy: 0.3929 - val_loss: 1.3120 - val_accuracy: 0.3902\n",
      "Epoch 3/25\n",
      "140/140 [==============================] - 0s 2ms/step - loss: 1.2786 - accuracy: 0.4046 - val_loss: 1.2764 - val_accuracy: 0.3932\n",
      "Epoch 4/25\n",
      "140/140 [==============================] - 0s 2ms/step - loss: 1.2473 - accuracy: 0.4196 - val_loss: 1.2564 - val_accuracy: 0.4058\n",
      "Epoch 5/25\n",
      "140/140 [==============================] - 0s 2ms/step - loss: 1.2305 - accuracy: 0.4260 - val_loss: 1.2575 - val_accuracy: 0.4027\n",
      "Epoch 6/25\n",
      "140/140 [==============================] - 0s 2ms/step - loss: 1.2223 - accuracy: 0.4302 - val_loss: 1.2387 - val_accuracy: 0.4074\n",
      "Epoch 7/25\n",
      "140/140 [==============================] - 0s 2ms/step - loss: 1.2163 - accuracy: 0.4316 - val_loss: 1.2323 - val_accuracy: 0.4223\n",
      "Epoch 8/25\n",
      "140/140 [==============================] - 0s 2ms/step - loss: 1.2089 - accuracy: 0.4332 - val_loss: 1.2333 - val_accuracy: 0.4217\n",
      "Epoch 9/25\n",
      "140/140 [==============================] - 0s 2ms/step - loss: 1.2046 - accuracy: 0.4408 - val_loss: 1.2394 - val_accuracy: 0.4066\n",
      "Epoch 10/25\n",
      "140/140 [==============================] - 0s 2ms/step - loss: 1.2019 - accuracy: 0.4365 - val_loss: 1.2359 - val_accuracy: 0.4150\n",
      "Epoch 11/25\n",
      "140/140 [==============================] - 0s 2ms/step - loss: 1.1970 - accuracy: 0.4417 - val_loss: 1.2331 - val_accuracy: 0.4140\n",
      "Epoch 12/25\n",
      "140/140 [==============================] - 0s 2ms/step - loss: 1.1948 - accuracy: 0.4426 - val_loss: 1.2392 - val_accuracy: 0.4123\n",
      "Epoch 13/25\n",
      "140/140 [==============================] - 0s 2ms/step - loss: 1.1919 - accuracy: 0.4464 - val_loss: 1.2360 - val_accuracy: 0.4114\n",
      "Epoch 14/25\n",
      "140/140 [==============================] - 0s 2ms/step - loss: 1.1895 - accuracy: 0.4463 - val_loss: 1.2224 - val_accuracy: 0.4257\n",
      "Epoch 15/25\n",
      "140/140 [==============================] - 0s 2ms/step - loss: 1.1872 - accuracy: 0.4464 - val_loss: 1.2312 - val_accuracy: 0.4226\n",
      "Epoch 16/25\n",
      "140/140 [==============================] - 0s 2ms/step - loss: 1.1850 - accuracy: 0.4470 - val_loss: 1.2260 - val_accuracy: 0.4176\n",
      "Epoch 17/25\n",
      "140/140 [==============================] - 0s 2ms/step - loss: 1.1816 - accuracy: 0.4507 - val_loss: 1.2298 - val_accuracy: 0.4229\n",
      "Epoch 18/25\n",
      "140/140 [==============================] - 0s 2ms/step - loss: 1.1815 - accuracy: 0.4508 - val_loss: 1.2189 - val_accuracy: 0.4244\n",
      "Epoch 19/25\n",
      "140/140 [==============================] - 0s 2ms/step - loss: 1.1781 - accuracy: 0.4530 - val_loss: 1.2228 - val_accuracy: 0.4216\n",
      "Epoch 20/25\n",
      "140/140 [==============================] - 0s 2ms/step - loss: 1.1788 - accuracy: 0.4537 - val_loss: 1.2185 - val_accuracy: 0.4244\n",
      "Epoch 21/25\n",
      "140/140 [==============================] - 0s 2ms/step - loss: 1.1754 - accuracy: 0.4581 - val_loss: 1.2200 - val_accuracy: 0.4207\n",
      "Epoch 22/25\n",
      "140/140 [==============================] - 0s 2ms/step - loss: 1.1773 - accuracy: 0.4568 - val_loss: 1.2161 - val_accuracy: 0.4259\n",
      "Epoch 23/25\n",
      "140/140 [==============================] - 0s 2ms/step - loss: 1.1713 - accuracy: 0.4583 - val_loss: 1.2211 - val_accuracy: 0.4280\n",
      "Epoch 24/25\n",
      "140/140 [==============================] - 0s 2ms/step - loss: 1.1714 - accuracy: 0.4610 - val_loss: 1.2161 - val_accuracy: 0.4339\n",
      "Epoch 25/25\n",
      "140/140 [==============================] - 0s 2ms/step - loss: 1.1742 - accuracy: 0.4614 - val_loss: 1.2099 - val_accuracy: 0.4335\n"
     ]
    }
   ],
   "source": [
    "model = MLP(layer1=layer1, layer2=layer2, reg = reg, learning_rate=learning_rate)\n",
    "results = model.fit(tr_X, tr_t, epochs=epoch_size, batch_size=batch_size, validation_split = validation_split, shuffle=True, verbose=verbose)"
   ]
  },
  {
   "cell_type": "code",
   "execution_count": 11,
   "metadata": {},
   "outputs": [],
   "source": [
    "RANDOM_SAMPLE_NUM = 100000\n",
    "TEST_NUM = 10\n",
    "TEST_ITERATION = 100\n",
    "SEPARATION = 0.35"
   ]
  },
  {
   "cell_type": "code",
   "execution_count": 12,
   "metadata": {},
   "outputs": [],
   "source": [
    "random_X, random_t = gen_random(RANDOM_SAMPLE_NUM)"
   ]
  },
  {
   "cell_type": "code",
   "execution_count": 13,
   "metadata": {},
   "outputs": [
    {
     "data": {
      "text/plain": [
       "[1.5857247114181519, 0.25282999873161316]"
      ]
     },
     "execution_count": 13,
     "metadata": {},
     "output_type": "execute_result"
    }
   ],
   "source": [
    "model.evaluate(random_X, random_t)"
   ]
  },
  {
   "cell_type": "code",
   "execution_count": 14,
   "metadata": {},
   "outputs": [],
   "source": [
    "def TEST(model=model, TEST_NUM=TEST_NUM, TEST_ITERATION=TEST_ITERATION, SEPARATION=SEPARATION):\n",
    "    TEST_ACCURACY = 0.0\n",
    "    for i in range(TEST_ITERATION):\n",
    "        #if(i%(TEST_ITERATION/10)==0):\n",
    "            #print(\"%d done\" % (i/(TEST_ITERATION/10)))\n",
    "        idx = TEST_NUM*i\n",
    "        result = model.evaluate(random_X[idx:idx+TEST_NUM], random_t[idx:idx+TEST_NUM])\n",
    "        acc = result[1]\n",
    "        #print(acc)\n",
    "        if(acc < SEPARATION):\n",
    "            TEST_ACCURACY = TEST_ACCURACY + 1.0/(TEST_ITERATION*2)\n",
    "        result = model.evaluate(te_X[idx:idx+TEST_NUM],te_t[idx:idx+TEST_NUM])\n",
    "        acc = result[1]\n",
    "        #print(acc)\n",
    "        if(acc >= SEPARATION):\n",
    "            TEST_ACCURACY = TEST_ACCURACY + 1.0/(TEST_ITERATION*2)\n",
    "        #print(\"TEST ACCURACY : %f\" % TEST_ACCURACY)\n",
    "    print(\"FIANL TEST ACCURACY : %f\" % TEST_ACCURACY)\n",
    "    return TEST_ACCURACY"
   ]
  },
  {
   "cell_type": "code",
   "execution_count": 15,
   "metadata": {},
   "outputs": [],
   "source": [
    "TN = [10, 20, 30, 40, 50, 60, 70, 80 ,90 ,100]\n",
    "TA = []"
   ]
  },
  {
   "cell_type": "code",
   "execution_count": 16,
   "metadata": {},
   "outputs": [
    {
     "name": "stdout",
     "output_type": "stream",
     "text": [
      "FIANL TEST ACCURACY : 0.710000\n",
      "FIANL TEST ACCURACY : 0.810000\n",
      "FIANL TEST ACCURACY : 0.845000\n",
      "FIANL TEST ACCURACY : 0.855000\n",
      "FIANL TEST ACCURACY : 0.885000\n",
      "FIANL TEST ACCURACY : 0.930000\n",
      "FIANL TEST ACCURACY : 0.955000\n",
      "FIANL TEST ACCURACY : 0.955000\n",
      "FIANL TEST ACCURACY : 0.970000\n",
      "FIANL TEST ACCURACY : 0.975000\n"
     ]
    }
   ],
   "source": [
    "for tn in TN:\n",
    "    TEST_ACCURACY = TEST(TEST_NUM=tn)\n",
    "    TA.append(TEST_ACCURACY)"
   ]
  },
  {
   "cell_type": "code",
   "execution_count": 17,
   "metadata": {},
   "outputs": [
    {
     "name": "stdout",
     "output_type": "stream",
     "text": [
      "[0.7100000000000005, 0.8100000000000006, 0.8450000000000006, 0.8550000000000006, 0.8850000000000007, 0.9300000000000007, 0.9550000000000007, 0.9550000000000007, 0.9700000000000008, 0.9750000000000008]\n"
     ]
    }
   ],
   "source": [
    "print(TA)"
   ]
  },
  {
   "cell_type": "code",
   "execution_count": 18,
   "metadata": {},
   "outputs": [
    {
     "data": {
      "text/plain": [
       "[<matplotlib.lines.Line2D at 0x1badba311d0>]"
      ]
     },
     "execution_count": 18,
     "metadata": {},
     "output_type": "execute_result"
    },
    {
     "data": {
      "image/png": "[encoded data removed]",
      "text/plain": [
       "<Figure size 432x288 with 1 Axes>"
      ]
     },
     "metadata": {
      "needs_background": "light"
     },
     "output_type": "display_data"
    }
   ],
   "source": [
    "plt.plot(TN, TA)"
   ]
  },
  {
   "cell_type": "code",
   "execution_count": 19,
   "metadata": {},
   "outputs": [
    {
     "name": "stdout",
     "output_type": "stream",
     "text": [
      "FIANL TEST ACCURACY : 1.000000\n"
     ]
    }
   ],
   "source": [
    "TEST_ACCURACY = TEST(TEST_NUM=1000, TEST_ITERATION=10)"
   ]
  },
  {
   "cell_type": "code",
   "execution_count": 23,
   "metadata": {},
   "outputs": [],
   "source": [
    "SEPARATION_LIST = [0.30, 0.31, 0.32, 0.33, 0.34, 0.35, 0.36 ,0.37, 0.38, 0.39, 0.40, 0.41, 0.42, 0.43, 0.44]\n",
    "TN = [100]"
   ]
  },
  {
   "cell_type": "code",
   "execution_count": 24,
   "metadata": {},
   "outputs": [
    {
     "name": "stdout",
     "output_type": "stream",
     "text": [
      "FIANL TEST ACCURACY : 0.920000\n",
      "FIANL TEST ACCURACY : 0.935000\n",
      "FIANL TEST ACCURACY : 0.965000\n",
      "FIANL TEST ACCURACY : 0.965000\n",
      "FIANL TEST ACCURACY : 0.970000\n",
      "FIANL TEST ACCURACY : 0.975000\n",
      "FIANL TEST ACCURACY : 0.975000\n",
      "FIANL TEST ACCURACY : 0.970000\n",
      "FIANL TEST ACCURACY : 0.930000\n",
      "FIANL TEST ACCURACY : 0.885000\n",
      "FIANL TEST ACCURACY : 0.885000\n",
      "FIANL TEST ACCURACY : 0.805000\n",
      "FIANL TEST ACCURACY : 0.755000\n",
      "FIANL TEST ACCURACY : 0.755000\n",
      "FIANL TEST ACCURACY : 0.680000\n"
     ]
    }
   ],
   "source": [
    "ACC = []\n",
    "for sp in SEPARATION_LIST:\n",
    "    TEST_ACCURACY = TEST(TEST_NUM=tn, SEPARATION=sp)\n",
    "    ACC.append(TEST_ACCURACY)"
   ]
  },
  {
   "cell_type": "code",
   "execution_count": 25,
   "metadata": {},
   "outputs": [
    {
     "data": {
      "text/plain": [
       "[<matplotlib.lines.Line2D at 0x1badbb3df28>]"
      ]
     },
     "execution_count": 25,
     "metadata": {},
     "output_type": "execute_result"
    },
    {
     "data": {
      "image/png": "[encoded data removed]",
      "text/plain": [
       "<Figure size 432x288 with 1 Axes>"
      ]
     },
     "metadata": {
      "needs_background": "light"
     },
     "output_type": "display_data"
    }
   ],
   "source": [
    "plt.plot(SEPARATION_LIST, ACC)"
   ]
  },
  {
   "cell_type": "code",
   "execution_count": null,
   "metadata": {},
   "outputs": [],
   "source": []
  }
 ],
 "metadata": {
  "colab": {
   "collapsed_sections": [],
   "name": "v2.ipynb",
   "provenance": []
  },
  "kernelspec": {
   "display_name": "Python 3",
   "language": "python",
   "name": "python3"
  },
  "language_info": {
   "codemirror_mode": {
    "name": "ipython",
    "version": 3
   },
   "file_extension": ".py",
   "mimetype": "text/x-python",
   "name": "python",
   "nbconvert_exporter": "python",
   "pygments_lexer": "ipython3",
   "version": "3.6.8"
  }
 },
 "nbformat": 4,
 "nbformat_minor": 1
}
